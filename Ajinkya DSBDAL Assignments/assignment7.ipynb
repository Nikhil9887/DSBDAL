{
  "nbformat": 4,
  "nbformat_minor": 0,
  "metadata": {
    "colab": {
      "provenance": []
    },
    "kernelspec": {
      "name": "python3",
      "display_name": "Python 3"
    },
    "language_info": {
      "name": "python"
    }
  },
  "cells": [
    {
      "cell_type": "markdown",
      "source": [
        "1.Extract Sample document and apply following document preprocessing methods:\n",
        "Tokenization, POS Tagging, stop words removal, Stemming and Lemmatization.\n",
        "\n",
        "2.Create representation of document by calculating Term Frequency and Inverse Document\n",
        "Frequency."
      ],
      "metadata": {
        "id": "64GQ7ZsrCngl"
      }
    },
    {
      "cell_type": "code",
      "source": [
        "import nltk\n",
        "from nltk.tokenize import sent_tokenize\n",
        "from nltk.tokenize import word_tokenize\n",
        "from nltk.probability import FreqDist\n",
        "from nltk.corpus import  stopwords\n",
        "from nltk.stem import PorterStemmer\n",
        "from nltk.stem import WordNetLemmatizer\n",
        "\n",
        "\n",
        "import matplotlib.pyplot as plt\n",
        "\n"
      ],
      "metadata": {
        "id": "BTCSfQN1CsS3"
      },
      "execution_count": null,
      "outputs": []
    },
    {
      "cell_type": "code",
      "source": [
        "!pip install nltk"
      ],
      "metadata": {
        "colab": {
          "base_uri": "https://localhost:8080/"
        },
        "id": "xFTd9VADH1_8",
        "outputId": "d8877305-cad2-496d-f700-b4916cf21cfc"
      },
      "execution_count": null,
      "outputs": [
        {
          "output_type": "stream",
          "name": "stdout",
          "text": [
            "Requirement already satisfied: nltk in /usr/local/lib/python3.10/dist-packages (3.8.1)\n",
            "Requirement already satisfied: click in /usr/local/lib/python3.10/dist-packages (from nltk) (8.1.7)\n",
            "Requirement already satisfied: joblib in /usr/local/lib/python3.10/dist-packages (from nltk) (1.3.2)\n",
            "Requirement already satisfied: regex>=2021.8.3 in /usr/local/lib/python3.10/dist-packages (from nltk) (2023.12.25)\n",
            "Requirement already satisfied: tqdm in /usr/local/lib/python3.10/dist-packages (from nltk) (4.66.2)\n"
          ]
        }
      ]
    },
    {
      "cell_type": "code",
      "source": [
        "nltk.download('punkt')"
      ],
      "metadata": {
        "colab": {
          "base_uri": "https://localhost:8080/"
        },
        "id": "2Ykyrs_OH5aG",
        "outputId": "d51e1158-e4c4-48cc-facb-f54fdfb9509e"
      },
      "execution_count": null,
      "outputs": [
        {
          "output_type": "stream",
          "name": "stderr",
          "text": [
            "[nltk_data] Downloading package punkt to /root/nltk_data...\n",
            "[nltk_data]   Package punkt is already up-to-date!\n"
          ]
        },
        {
          "output_type": "execute_result",
          "data": {
            "text/plain": [
              "True"
            ]
          },
          "metadata": {},
          "execution_count": 67
        }
      ]
    },
    {
      "cell_type": "code",
      "source": [
        "text = \"The sun was setting behind the mountains, casting a warm glow over the valley. Birds chirped their final songs of the day as they settled into their nests. A gentle breeze rustled through the trees, carrying the scent of pine and wildflowers. In the distance, a river meandered lazily, its waters reflecting the vibrant hues of the evening sky. As darkness descended, the stars began to twinkle overhead, painting the night with their celestial light.\"\n",
        "lowercased_text = text.lower()\n",
        "\n",
        "print(lowercased_text)"
      ],
      "metadata": {
        "colab": {
          "base_uri": "https://localhost:8080/"
        },
        "id": "y1D9mgDVGT_F",
        "outputId": "58195e9b-48d4-44a3-90f3-d6efc219e0e2"
      },
      "execution_count": null,
      "outputs": [
        {
          "output_type": "stream",
          "name": "stdout",
          "text": [
            "the sun was setting behind the mountains, casting a warm glow over the valley. birds chirped their final songs of the day as they settled into their nests. a gentle breeze rustled through the trees, carrying the scent of pine and wildflowers. in the distance, a river meandered lazily, its waters reflecting the vibrant hues of the evening sky. as darkness descended, the stars began to twinkle overhead, painting the night with their celestial light.\n"
          ]
        }
      ]
    },
    {
      "cell_type": "code",
      "source": [
        "nltk.download('stopwords')"
      ],
      "metadata": {
        "colab": {
          "base_uri": "https://localhost:8080/"
        },
        "id": "GcgLuQM4Mz9N",
        "outputId": "29a85744-0de3-4462-b016-bf8e0466402f"
      },
      "execution_count": null,
      "outputs": [
        {
          "output_type": "stream",
          "name": "stderr",
          "text": [
            "[nltk_data] Downloading package stopwords to /root/nltk_data...\n",
            "[nltk_data]   Package stopwords is already up-to-date!\n"
          ]
        },
        {
          "output_type": "execute_result",
          "data": {
            "text/plain": [
              "True"
            ]
          },
          "metadata": {},
          "execution_count": 69
        }
      ]
    },
    {
      "cell_type": "code",
      "source": [
        "# removing stop words\n",
        "finaltext =\"\";\n",
        "def remove_stopwords(text, language):\n",
        "    stop_words = set(stopwords.words(language))\n",
        "    word_tokens = text.split()\n",
        "    filtered_text = [word for word in word_tokens if word not in stop_words]\n",
        "    print(language)\n",
        "    sent = \"\";\n",
        "    for i in filtered_text:\n",
        "        sent += i\n",
        "        sent += \" \"\n",
        "    return sent\n",
        "\n",
        "text = remove_stopwords(text, \"english\")\n",
        "print(text)"
      ],
      "metadata": {
        "colab": {
          "base_uri": "https://localhost:8080/"
        },
        "id": "74lnHu2iMdWC",
        "outputId": "7b7cae2d-a762-4fbd-f355-d8e730b935f5"
      },
      "execution_count": null,
      "outputs": [
        {
          "output_type": "stream",
          "name": "stdout",
          "text": [
            "english\n",
            "The sun setting behind mountains, casting warm glow valley. Birds chirped final songs day settled nests. A gentle breeze rustled trees, carrying scent pine wildflowers. In distance, river meandered lazily, waters reflecting vibrant hues evening sky. As darkness descended, stars began twinkle overhead, painting night celestial light. \n"
          ]
        }
      ]
    },
    {
      "cell_type": "code",
      "source": [
        "tokenized_text=sent_tokenize(text)\n",
        "print(tokenized_text)"
      ],
      "metadata": {
        "colab": {
          "base_uri": "https://localhost:8080/"
        },
        "id": "uQ-L4qFzHOI7",
        "outputId": "4ebc4ed3-1048-4776-a83c-2f8eba5982c5"
      },
      "execution_count": null,
      "outputs": [
        {
          "output_type": "stream",
          "name": "stdout",
          "text": [
            "['The sun setting behind mountains, casting warm glow valley.', 'Birds chirped final songs day settled nests.', 'A gentle breeze rustled trees, carrying scent pine wildflowers.', 'In distance, river meandered lazily, waters reflecting vibrant hues evening sky.', 'As darkness descended, stars began twinkle overhead, painting night celestial light.']\n"
          ]
        }
      ]
    },
    {
      "cell_type": "code",
      "source": [
        "tokenized_word=word_tokenize(text)\n",
        "print(tokenized_word)"
      ],
      "metadata": {
        "colab": {
          "base_uri": "https://localhost:8080/"
        },
        "id": "8MmFakB_IebZ",
        "outputId": "39075e33-5b23-4af4-a02d-34ad43cc2f90"
      },
      "execution_count": null,
      "outputs": [
        {
          "output_type": "stream",
          "name": "stdout",
          "text": [
            "['The', 'sun', 'setting', 'behind', 'mountains', ',', 'casting', 'warm', 'glow', 'valley', '.', 'Birds', 'chirped', 'final', 'songs', 'day', 'settled', 'nests', '.', 'A', 'gentle', 'breeze', 'rustled', 'trees', ',', 'carrying', 'scent', 'pine', 'wildflowers', '.', 'In', 'distance', ',', 'river', 'meandered', 'lazily', ',', 'waters', 'reflecting', 'vibrant', 'hues', 'evening', 'sky', '.', 'As', 'darkness', 'descended', ',', 'stars', 'began', 'twinkle', 'overhead', ',', 'painting', 'night', 'celestial', 'light', '.']\n"
          ]
        }
      ]
    },
    {
      "cell_type": "code",
      "source": [
        "fdist = FreqDist(tokenized_word)\n",
        "print(fdist)"
      ],
      "metadata": {
        "colab": {
          "base_uri": "https://localhost:8080/"
        },
        "id": "8TqtEUuKJlOz",
        "outputId": "de86db04-ec8d-4bf0-8ed3-9d47d010ac92"
      },
      "execution_count": null,
      "outputs": [
        {
          "output_type": "stream",
          "name": "stdout",
          "text": [
            "<FreqDist with 49 samples and 58 outcomes>\n"
          ]
        }
      ]
    },
    {
      "cell_type": "code",
      "source": [
        "fdist.plot(30 , cumulative=False)\n",
        "plt.show()"
      ],
      "metadata": {
        "colab": {
          "base_uri": "https://localhost:8080/",
          "height": 514
        },
        "id": "6NFgcg1MJlVY",
        "outputId": "c1659017-bdf9-4431-900d-fece0641c393"
      },
      "execution_count": null,
      "outputs": [
        {
          "output_type": "display_data",
          "data": {
            "text/plain": [
              "<Figure size 640x480 with 1 Axes>"
            ],
            "image/png": "[encoded data removed]"
          },
          "metadata": {}
        }
      ]
    },
    {
      "cell_type": "code",
      "source": [
        "stemmer = PorterStemmer()\n",
        "\n",
        "def stem_words(text):\n",
        "    word_tokens = text.split()\n",
        "    stems = [stemmer.stem(word) for word in word_tokens]\n",
        "    return stems\n",
        "\n",
        "print(text)\n",
        "stem_words(text)"
      ],
      "metadata": {
        "colab": {
          "base_uri": "https://localhost:8080/"
        },
        "id": "YWJahiIAJlfx",
        "outputId": "e9cd5290-b22c-469e-bf35-ec9ffffb966b"
      },
      "execution_count": null,
      "outputs": [
        {
          "output_type": "stream",
          "name": "stdout",
          "text": [
            "The sun setting behind mountains, casting warm glow valley. Birds chirped final songs day settled nests. A gentle breeze rustled trees, carrying scent pine wildflowers. In distance, river meandered lazily, waters reflecting vibrant hues evening sky. As darkness descended, stars began twinkle overhead, painting night celestial light. \n"
          ]
        },
        {
          "output_type": "execute_result",
          "data": {
            "text/plain": [
              "['the',\n",
              " 'sun',\n",
              " 'set',\n",
              " 'behind',\n",
              " 'mountains,',\n",
              " 'cast',\n",
              " 'warm',\n",
              " 'glow',\n",
              " 'valley.',\n",
              " 'bird',\n",
              " 'chirp',\n",
              " 'final',\n",
              " 'song',\n",
              " 'day',\n",
              " 'settl',\n",
              " 'nests.',\n",
              " 'a',\n",
              " 'gentl',\n",
              " 'breez',\n",
              " 'rustl',\n",
              " 'trees,',\n",
              " 'carri',\n",
              " 'scent',\n",
              " 'pine',\n",
              " 'wildflowers.',\n",
              " 'in',\n",
              " 'distance,',\n",
              " 'river',\n",
              " 'meander',\n",
              " 'lazily,',\n",
              " 'water',\n",
              " 'reflect',\n",
              " 'vibrant',\n",
              " 'hue',\n",
              " 'even',\n",
              " 'sky.',\n",
              " 'as',\n",
              " 'dark',\n",
              " 'descended,',\n",
              " 'star',\n",
              " 'began',\n",
              " 'twinkl',\n",
              " 'overhead,',\n",
              " 'paint',\n",
              " 'night',\n",
              " 'celesti',\n",
              " 'light.']"
            ]
          },
          "metadata": {},
          "execution_count": 75
        }
      ]
    },
    {
      "cell_type": "code",
      "source": [
        "nltk.download('wordnet')"
      ],
      "metadata": {
        "colab": {
          "base_uri": "https://localhost:8080/"
        },
        "id": "llzEeaELXO5a",
        "outputId": "721fd7a9-ef33-4735-c5a1-3d3880d21fd1"
      },
      "execution_count": null,
      "outputs": [
        {
          "output_type": "stream",
          "name": "stderr",
          "text": [
            "[nltk_data] Downloading package wordnet to /root/nltk_data...\n",
            "[nltk_data]   Package wordnet is already up-to-date!\n"
          ]
        },
        {
          "output_type": "execute_result",
          "data": {
            "text/plain": [
              "True"
            ]
          },
          "metadata": {},
          "execution_count": 76
        }
      ]
    },
    {
      "cell_type": "code",
      "source": [
        "lemmatizer = WordNetLemmatizer()\n",
        "\n",
        "def lemmatize_word(text):\n",
        "    word_tokens = text.split()\n",
        "    lemmas = [lemmatizer.lemmatize(word, pos ='v') for word in word_tokens]\n",
        "    return lemmas\n",
        "\n",
        "print(text)\n",
        "lemmatize_word(text)"
      ],
      "metadata": {
        "colab": {
          "base_uri": "https://localhost:8080/"
        },
        "id": "Q9EpKsXpXc8a",
        "outputId": "064a5e2b-e407-4d5d-a7e0-55bb81997832"
      },
      "execution_count": null,
      "outputs": [
        {
          "output_type": "stream",
          "name": "stdout",
          "text": [
            "The sun setting behind mountains, casting warm glow valley. Birds chirped final songs day settled nests. A gentle breeze rustled trees, carrying scent pine wildflowers. In distance, river meandered lazily, waters reflecting vibrant hues evening sky. As darkness descended, stars began twinkle overhead, painting night celestial light. \n"
          ]
        },
        {
          "output_type": "execute_result",
          "data": {
            "text/plain": [
              "['The',\n",
              " 'sun',\n",
              " 'set',\n",
              " 'behind',\n",
              " 'mountains,',\n",
              " 'cast',\n",
              " 'warm',\n",
              " 'glow',\n",
              " 'valley.',\n",
              " 'Birds',\n",
              " 'chirp',\n",
              " 'final',\n",
              " 'songs',\n",
              " 'day',\n",
              " 'settle',\n",
              " 'nests.',\n",
              " 'A',\n",
              " 'gentle',\n",
              " 'breeze',\n",
              " 'rustle',\n",
              " 'trees,',\n",
              " 'carry',\n",
              " 'scent',\n",
              " 'pine',\n",
              " 'wildflowers.',\n",
              " 'In',\n",
              " 'distance,',\n",
              " 'river',\n",
              " 'meander',\n",
              " 'lazily,',\n",
              " 'water',\n",
              " 'reflect',\n",
              " 'vibrant',\n",
              " 'hue',\n",
              " 'even',\n",
              " 'sky.',\n",
              " 'As',\n",
              " 'darkness',\n",
              " 'descended,',\n",
              " 'star',\n",
              " 'begin',\n",
              " 'twinkle',\n",
              " 'overhead,',\n",
              " 'paint',\n",
              " 'night',\n",
              " 'celestial',\n",
              " 'light.']"
            ]
          },
          "metadata": {},
          "execution_count": 77
        }
      ]
    },
    {
      "cell_type": "code",
      "source": [
        "nltk.download('averaged_perceptron_tagger')"
      ],
      "metadata": {
        "colab": {
          "base_uri": "https://localhost:8080/"
        },
        "id": "5p0XKeVPYO3U",
        "outputId": "94d3ba99-0dcb-4052-ef08-a9050bce419d"
      },
      "execution_count": null,
      "outputs": [
        {
          "output_type": "stream",
          "name": "stderr",
          "text": [
            "[nltk_data] Downloading package averaged_perceptron_tagger to\n",
            "[nltk_data]     /root/nltk_data...\n",
            "[nltk_data]   Unzipping taggers/averaged_perceptron_tagger.zip.\n"
          ]
        },
        {
          "output_type": "execute_result",
          "data": {
            "text/plain": [
              "True"
            ]
          },
          "metadata": {},
          "execution_count": 79
        }
      ]
    },
    {
      "cell_type": "code",
      "source": [
        "textlist = text.split()\n",
        "\n",
        "nltk.pos_tag(textlist)"
      ],
      "metadata": {
        "colab": {
          "base_uri": "https://localhost:8080/"
        },
        "id": "QHI4O4HAYH-i",
        "outputId": "146b9668-385a-4237-e760-c1de1d5c3eca"
      },
      "execution_count": null,
      "outputs": [
        {
          "output_type": "execute_result",
          "data": {
            "text/plain": [
              "[('The', 'DT'),\n",
              " ('sun', 'NN'),\n",
              " ('setting', 'VBG'),\n",
              " ('behind', 'IN'),\n",
              " ('mountains,', 'NN'),\n",
              " ('casting', 'VBG'),\n",
              " ('warm', 'JJ'),\n",
              " ('glow', 'NN'),\n",
              " ('valley.', 'NN'),\n",
              " ('Birds', 'NNP'),\n",
              " ('chirped', 'VBD'),\n",
              " ('final', 'JJ'),\n",
              " ('songs', 'NNS'),\n",
              " ('day', 'NN'),\n",
              " ('settled', 'VBD'),\n",
              " ('nests.', 'RB'),\n",
              " ('A', 'NNP'),\n",
              " ('gentle', 'JJ'),\n",
              " ('breeze', 'NN'),\n",
              " ('rustled', 'VBD'),\n",
              " ('trees,', 'JJ'),\n",
              " ('carrying', 'VBG'),\n",
              " ('scent', 'JJ'),\n",
              " ('pine', 'NN'),\n",
              " ('wildflowers.', 'NN'),\n",
              " ('In', 'IN'),\n",
              " ('distance,', 'NN'),\n",
              " ('river', 'NN'),\n",
              " ('meandered', 'VBD'),\n",
              " ('lazily,', 'JJ'),\n",
              " ('waters', 'NNS'),\n",
              " ('reflecting', 'VBG'),\n",
              " ('vibrant', 'NN'),\n",
              " ('hues', 'NNS'),\n",
              " ('evening', 'VBG'),\n",
              " ('sky.', 'NN'),\n",
              " ('As', 'IN'),\n",
              " ('darkness', 'NN'),\n",
              " ('descended,', 'NN'),\n",
              " ('stars', 'NNS'),\n",
              " ('began', 'VBD'),\n",
              " ('twinkle', 'JJ'),\n",
              " ('overhead,', 'NN'),\n",
              " ('painting', 'VBG'),\n",
              " ('night', 'NN'),\n",
              " ('celestial', 'NN'),\n",
              " ('light.', 'NN')]"
            ]
          },
          "metadata": {},
          "execution_count": 85
        }
      ]
    },
    {
      "cell_type": "code",
      "source": [],
      "metadata": {
        "id": "znAtIMSzYIFz"
      },
      "execution_count": null,
      "outputs": []
    },
    {
      "cell_type": "code",
      "source": [],
      "metadata": {
        "id": "tYE_M3upYIIk"
      },
      "execution_count": null,
      "outputs": []
    },
    {
      "cell_type": "code",
      "source": [],
      "metadata": {
        "id": "fk6CV_8pYIK4"
      },
      "execution_count": null,
      "outputs": []
    }
  ]
}